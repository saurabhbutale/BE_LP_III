{
 "cells": [
  {
   "cell_type": "code",
   "execution_count": 2,
   "id": "9d670bdc-9aa9-499b-914d-bc3a17edff62",
   "metadata": {},
   "outputs": [],
   "source": [
    "import pandas as pd\n",
    "import numpy as np\n",
    "from sklearn.model_selection import train_test_split\n",
    "from sklearn.preprocessing import LabelEncoder\n",
    "from sklearn.metrics import accuracy_score, confusion_matrix, classification_report\n",
    "from sklearn.ensemble import RandomForestClassifier, GradientBoostingClassifier\n",
    "from sklearn.linear_model import LogisticRegression\n",
    "from sklearn.svm import SVC\n",
    "from sklearn.neighbors import KNeighborsClassifier "
   ]
  },
  {
   "cell_type": "code",
   "execution_count": 3,
   "id": "aa6360d3-c034-4c5d-bcc7-6b7d3d1dd705",
   "metadata": {},
   "outputs": [],
   "source": [
    "train_df = pd.read_csv('Data/train.csv')\n",
    "test_df = pd.read_csv('Data/test.csv')"
   ]
  },
  {
   "cell_type": "code",
   "execution_count": 4,
   "id": "b0e1cb0a-0865-4933-9bb3-9561d9113cff",
   "metadata": {},
   "outputs": [
    {
     "name": "stdout",
     "output_type": "stream",
     "text": [
      "train dataset dimension: (891, 12)\n",
      "test dataset dimension: (418, 11)\n"
     ]
    }
   ],
   "source": [
    "print(\"train dataset dimension:\",train_df.shape)\n",
    "print(\"test dataset dimension:\",test_df.shape)"
   ]
  },
  {
   "cell_type": "code",
   "execution_count": 5,
   "id": "7172969d-77a4-44a9-a994-fb9c5c2e7e24",
   "metadata": {},
   "outputs": [
    {
     "data": {
      "text/plain": [
       "PassengerId      0\n",
       "Survived         0\n",
       "Pclass           0\n",
       "Name             0\n",
       "Sex              0\n",
       "Age            177\n",
       "SibSp            0\n",
       "Parch            0\n",
       "Ticket           0\n",
       "Fare             0\n",
       "Cabin          687\n",
       "Embarked         2\n",
       "dtype: int64"
      ]
     },
     "execution_count": 5,
     "metadata": {},
     "output_type": "execute_result"
    }
   ],
   "source": [
    "train_df.isnull().sum()"
   ]
  },
  {
   "cell_type": "code",
   "execution_count": 6,
   "id": "0f0255ae-8e8b-4363-ad37-fb2098dc650d",
   "metadata": {},
   "outputs": [
    {
     "data": {
      "text/plain": [
       "PassengerId      0\n",
       "Pclass           0\n",
       "Name             0\n",
       "Sex              0\n",
       "Age             86\n",
       "SibSp            0\n",
       "Parch            0\n",
       "Ticket           0\n",
       "Fare             1\n",
       "Cabin          327\n",
       "Embarked         0\n",
       "dtype: int64"
      ]
     },
     "execution_count": 6,
     "metadata": {},
     "output_type": "execute_result"
    }
   ],
   "source": [
    "test_df.isnull().sum()"
   ]
  },
  {
   "cell_type": "code",
   "execution_count": 7,
   "id": "51efb04b-0dcf-4e9c-b865-5a32877b9040",
   "metadata": {},
   "outputs": [],
   "source": [
    "train_df['Age'].fillna(train_df['Age'].median(), inplace=True)\n",
    "test_df['Age'].fillna(test_df['Age'].median(), inplace=True)"
   ]
  },
  {
   "cell_type": "code",
   "execution_count": 8,
   "id": "dbc8c80e-3e39-44ca-882c-90a9d32affa5",
   "metadata": {},
   "outputs": [],
   "source": [
    "# Fill missing embarked values with most common value\n",
    "train_df['Embarked'].fillna(train_df['Embarked'].mode()[0], inplace=True)"
   ]
  },
  {
   "cell_type": "code",
   "execution_count": 9,
   "id": "eee5ae85-7897-4b6e-b3f8-fe5da901875a",
   "metadata": {},
   "outputs": [],
   "source": [
    "# Fill missing fare values in test set with median\n",
    "test_df['Fare'].fillna(test_df['Fare'].median(), inplace=True) "
   ]
  },
  {
   "cell_type": "code",
   "execution_count": 10,
   "id": "f66746fe-8eac-45f0-ae16-24f697d8e648",
   "metadata": {},
   "outputs": [],
   "source": [
    "# Drop 'Cabin' column as it has too many missing values\n",
    "train_df.drop('Cabin', axis=1, inplace=True)\n",
    "test_df.drop('Cabin', axis=1, inplace=True)\n"
   ]
  },
  {
   "cell_type": "code",
   "execution_count": 11,
   "id": "bcb0bd00-9896-4cca-95d9-c73a4d2b8c6c",
   "metadata": {},
   "outputs": [
    {
     "data": {
      "text/plain": [
       "PassengerId    0\n",
       "Survived       0\n",
       "Pclass         0\n",
       "Name           0\n",
       "Sex            0\n",
       "Age            0\n",
       "SibSp          0\n",
       "Parch          0\n",
       "Ticket         0\n",
       "Fare           0\n",
       "Embarked       0\n",
       "dtype: int64"
      ]
     },
     "execution_count": 11,
     "metadata": {},
     "output_type": "execute_result"
    }
   ],
   "source": [
    "train_df.isnull().sum()"
   ]
  },
  {
   "cell_type": "code",
   "execution_count": 12,
   "id": "337759e7-5585-4857-8af2-8c701c0fc7af",
   "metadata": {},
   "outputs": [
    {
     "data": {
      "text/plain": [
       "PassengerId    0\n",
       "Pclass         0\n",
       "Name           0\n",
       "Sex            0\n",
       "Age            0\n",
       "SibSp          0\n",
       "Parch          0\n",
       "Ticket         0\n",
       "Fare           0\n",
       "Embarked       0\n",
       "dtype: int64"
      ]
     },
     "execution_count": 12,
     "metadata": {},
     "output_type": "execute_result"
    }
   ],
   "source": [
    "test_df.isnull().sum()"
   ]
  },
  {
   "cell_type": "code",
   "execution_count": 13,
   "id": "bc8aa953-6687-49de-bd6d-abb1a10866b8",
   "metadata": {},
   "outputs": [],
   "source": [
    "# Convert categorical features to numeric (Label Encoding)\n",
    "le = LabelEncoder()\n",
    "train_df['Sex'] = le.fit_transform(train_df['Sex'])\n",
    "test_df['Sex'] = le.transform(test_df['Sex'])\n",
    "\n",
    "train_df['Embarked'] = le.fit_transform(train_df['Embarked'])\n",
    "test_df['Embarked'] = le.transform(test_df['Embarked'])"
   ]
  },
  {
   "cell_type": "code",
   "execution_count": 14,
   "id": "b17de36d-059d-4c99-b34f-4932f769b864",
   "metadata": {},
   "outputs": [],
   "source": [
    "# Select features and target variable\n",
    "X = train_df[['Pclass', 'Sex', 'Age', 'SibSp', 'Parch', 'Fare', 'Embarked']]\n",
    "y = train_df['Survived']"
   ]
  },
  {
   "cell_type": "code",
   "execution_count": 15,
   "id": "3c3ec3ef-a1e5-457a-b477-4024ab449ef7",
   "metadata": {},
   "outputs": [],
   "source": [
    "# Split the data into training and validation sets\n",
    "X_train, X_val, y_train, y_val = train_test_split(X, y, test_size=0.2, random_state=42)"
   ]
  },
  {
   "cell_type": "code",
   "execution_count": 16,
   "id": "903d5081-8f2a-4630-9a0a-0135e073641f",
   "metadata": {},
   "outputs": [],
   "source": [
    "# Dictionary to store accuracy of each model\n",
    "model_objects = {}"
   ]
  },
  {
   "cell_type": "code",
   "execution_count": 17,
   "id": "49b68f65-4883-44bc-8dd5-9f900ce3caab",
   "metadata": {},
   "outputs": [],
   "source": [
    "# 1. Logistic Regression\n",
    "lr = LogisticRegression(max_iter=1000)\n",
    "lr.fit(X_train, y_train)\n",
    "y_pred_lr = lr.predict(X_val)\n",
    "model_objects['Logistic Regression'] = lr  # Store the model object\n"
   ]
  },
  {
   "cell_type": "code",
   "execution_count": 18,
   "id": "d8ef5323-030e-4617-bf5f-7c2e0c702be0",
   "metadata": {},
   "outputs": [],
   "source": [
    "# 2. Support Vector Machine\n",
    "svc = SVC()\n",
    "svc.fit(X_train, y_train)\n",
    "y_pred_svc = svc.predict(X_val)\n",
    "model_objects['SVM'] = svc  # Store the model object"
   ]
  },
  {
   "cell_type": "code",
   "execution_count": 19,
   "id": "35d3e8f4-1f2d-4136-81af-75be1f8f374c",
   "metadata": {},
   "outputs": [],
   "source": [
    "# 3. K-Nearest Neighbors\n",
    "knn = KNeighborsClassifier(n_neighbors=5)\n",
    "knn.fit(X_train, y_train)\n",
    "y_pred_knn = knn.predict(X_val)\n",
    "model_objects['KNN'] = knn  # Store the model object"
   ]
  },
  {
   "cell_type": "code",
   "execution_count": 20,
   "id": "6202b863-81ab-485b-91ee-3fc6237ea2a1",
   "metadata": {},
   "outputs": [],
   "source": [
    "# 4. Random Forest\n",
    "rf = RandomForestClassifier(n_estimators=100)\n",
    "rf.fit(X_train, y_train)\n",
    "y_pred_rf = rf.predict(X_val)\n",
    "model_objects['Random Forest'] = rf  # Store the model object"
   ]
  },
  {
   "cell_type": "code",
   "execution_count": 21,
   "id": "00fc217e-4791-4442-930c-828cbc5f5bfe",
   "metadata": {},
   "outputs": [],
   "source": [
    "# 5. Gradient Boosting\n",
    "gb = GradientBoostingClassifier()\n",
    "gb.fit(X_train, y_train)\n",
    "y_pred_gb = gb.predict(X_val)\n",
    "model_objects['Gradient Boosting'] = gb  # Store the model object"
   ]
  },
  {
   "cell_type": "code",
   "execution_count": 23,
   "id": "76d05fd8-c5f4-4b6c-81aa-715195baacd5",
   "metadata": {},
   "outputs": [
    {
     "name": "stdout",
     "output_type": "stream",
     "text": [
      "Model Performance Comparison:\n"
     ]
    },
    {
     "ename": "TypeError",
     "evalue": "unsupported operand type(s) for *: 'LogisticRegression' and 'int'",
     "output_type": "error",
     "traceback": [
      "\u001b[1;31m---------------------------------------------------------------------------\u001b[0m",
      "\u001b[1;31mTypeError\u001b[0m                                 Traceback (most recent call last)",
      "Cell \u001b[1;32mIn[23], line 4\u001b[0m\n\u001b[0;32m      2\u001b[0m \u001b[38;5;28mprint\u001b[39m(\u001b[38;5;124m\"\u001b[39m\u001b[38;5;124mModel Performance Comparison:\u001b[39m\u001b[38;5;124m\"\u001b[39m)\n\u001b[0;32m      3\u001b[0m \u001b[38;5;28;01mfor\u001b[39;00m model, acc \u001b[38;5;129;01min\u001b[39;00m model_objects\u001b[38;5;241m.\u001b[39mitems():\n\u001b[1;32m----> 4\u001b[0m     \u001b[38;5;28mprint\u001b[39m(\u001b[38;5;124mf\u001b[39m\u001b[38;5;124m\"\u001b[39m\u001b[38;5;132;01m{\u001b[39;00mmodel\u001b[38;5;132;01m}\u001b[39;00m\u001b[38;5;124m: \u001b[39m\u001b[38;5;132;01m{\u001b[39;00m\u001b[43macc\u001b[49m\u001b[38;5;250;43m \u001b[39;49m\u001b[38;5;241;43m*\u001b[39;49m\u001b[38;5;250;43m \u001b[39;49m\u001b[38;5;241;43m100\u001b[39;49m\u001b[38;5;132;01m:\u001b[39;00m\u001b[38;5;124m.2f\u001b[39m\u001b[38;5;132;01m}\u001b[39;00m\u001b[38;5;124m%\u001b[39m\u001b[38;5;124m\"\u001b[39m)\n",
      "\u001b[1;31mTypeError\u001b[0m: unsupported operand type(s) for *: 'LogisticRegression' and 'int'"
     ]
    }
   ],
   "source": [
    "# Print model accuracy scores\n",
    "print(\"Model Performance Comparison:\")\n",
    "for model, acc in model_objects.items():\n",
    "    print(f\"{model}: {acc * 100:.2f}%\")"
   ]
  },
  {
   "cell_type": "code",
   "execution_count": 24,
   "id": "361c2b6b-ba44-469a-8bd8-11f3f8fde017",
   "metadata": {},
   "outputs": [
    {
     "ename": "NameError",
     "evalue": "name 'model_accuracy' is not defined",
     "output_type": "error",
     "traceback": [
      "\u001b[1;31m---------------------------------------------------------------------------\u001b[0m",
      "\u001b[1;31mNameError\u001b[0m                                 Traceback (most recent call last)",
      "Cell \u001b[1;32mIn[24], line 2\u001b[0m\n\u001b[0;32m      1\u001b[0m \u001b[38;5;66;03m# Find the best model by accuracy\u001b[39;00m\n\u001b[1;32m----> 2\u001b[0m best_model_name \u001b[38;5;241m=\u001b[39m \u001b[38;5;28mmax\u001b[39m(\u001b[43mmodel_accuracy\u001b[49m, key\u001b[38;5;241m=\u001b[39mmodel_accuracy\u001b[38;5;241m.\u001b[39mget)\n\u001b[0;32m      3\u001b[0m best_model \u001b[38;5;241m=\u001b[39m model_objects[best_model_name]  \u001b[38;5;66;03m# Get the actual model object\u001b[39;00m\n",
      "\u001b[1;31mNameError\u001b[0m: name 'model_accuracy' is not defined"
     ]
    }
   ],
   "source": [
    "# Find the best model by accuracy\n",
    "best_model_name = max(model_accuracy, key=model_accuracy.get)\n",
    "best_model = model_objects[best_model_name]  # Get the actual model object"
   ]
  },
  {
   "cell_type": "code",
   "execution_count": 42,
   "id": "371296fc-319a-4afc-ba82-dae4fdffcb9c",
   "metadata": {},
   "outputs": [],
   "source": [
    "# Ensure the test dataset has the same features as the training set\n",
    "test_df_clean = test_df.drop(['Name', 'PassengerId', 'Ticket'], axis=1)\n",
    "\n",
    "# Ensure columns match the training set\n",
    "test_df_clean = test_df_clean.reindex(columns=X_train.columns, fill_value=0)\n",
    "\n",
    "# Use the best model for predictions on the test set\n",
    "test_predictions = best_model.predict(test_df_clean)\n"
   ]
  },
  {
   "cell_type": "code",
   "execution_count": 44,
   "id": "545ccb5a-07d7-4292-9c1f-b8a56ecbd68a",
   "metadata": {},
   "outputs": [
    {
     "name": "stdout",
     "output_type": "stream",
     "text": [
      "Submission file created using the best model: Logistic Regression\n"
     ]
    }
   ],
   "source": [
    "# Create the submission file\n",
    "submission = pd.DataFrame({'PassengerId': pd.read_csv('Data/test.csv')['PassengerId'], 'Survived': test_predictions})\n",
    "submission.to_csv('titanic_submission.csv', index=False)\n",
    "\n",
    "print(f\"Submission file created using the best model: {best_model_name}\")"
   ]
  },
  {
   "cell_type": "code",
   "execution_count": 1,
   "id": "4100150c-1896-47d1-b9ee-3e7c8ad93af8",
   "metadata": {},
   "outputs": [
    {
     "ename": "NameError",
     "evalue": "name 'pd' is not defined",
     "output_type": "error",
     "traceback": [
      "\u001b[1;31m---------------------------------------------------------------------------\u001b[0m",
      "\u001b[1;31mNameError\u001b[0m                                 Traceback (most recent call last)",
      "Cell \u001b[1;32mIn[1], line 1\u001b[0m\n\u001b[1;32m----> 1\u001b[0m submit \u001b[38;5;241m=\u001b[39m \u001b[43mpd\u001b[49m\u001b[38;5;241m.\u001b[39mDataFrame({\u001b[38;5;124m'\u001b[39m\u001b[38;5;124mPassengerId\u001b[39m\u001b[38;5;124m'\u001b[39m: test[\u001b[38;5;124m'\u001b[39m\u001b[38;5;124mPassengerId\u001b[39m\u001b[38;5;124m'\u001b[39m], \u001b[38;5;124m'\u001b[39m\u001b[38;5;124mSurvived\u001b[39m\u001b[38;5;124m'\u001b[39m: test_predictions})\n\u001b[0;32m      2\u001b[0m submit\u001b[38;5;241m.\u001b[39mhead()\n",
      "\u001b[1;31mNameError\u001b[0m: name 'pd' is not defined"
     ]
    }
   ],
   "source": [
    "submit = pd.DataFrame({'PassengerId': test['PassengerId'], 'Survived': test_predictions})\n",
    "submit.head()"
   ]
  },
  {
   "cell_type": "code",
   "execution_count": null,
   "id": "80109fb4-7321-4107-a1f6-436404bfb8bf",
   "metadata": {},
   "outputs": [],
   "source": []
  }
 ],
 "metadata": {
  "kernelspec": {
   "display_name": "Python 3 (ipykernel)",
   "language": "python",
   "name": "python3"
  },
  "language_info": {
   "codemirror_mode": {
    "name": "ipython",
    "version": 3
   },
   "file_extension": ".py",
   "mimetype": "text/x-python",
   "name": "python",
   "nbconvert_exporter": "python",
   "pygments_lexer": "ipython3",
   "version": "3.11.4"
  }
 },
 "nbformat": 4,
 "nbformat_minor": 5
}
